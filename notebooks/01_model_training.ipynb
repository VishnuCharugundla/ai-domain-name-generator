{
 "cells": [
  {
   "cell_type": "markdown",
   "id": "5fb4ae97",
   "metadata": {},
   "source": [
    "### 1. Install dependencies"
   ]
  },
  {
   "cell_type": "code",
   "execution_count": 23,
   "id": "f92cd29c",
   "metadata": {},
   "outputs": [],
   "source": [
    "# !pip install transformers datasets evaluate accelerate -q"
   ]
  },
  {
   "cell_type": "markdown",
   "id": "87cf96e1",
   "metadata": {},
   "source": [
    "### 2. Imports\n"
   ]
  },
  {
   "cell_type": "code",
   "execution_count": 24,
   "id": "dc6527e4",
   "metadata": {},
   "outputs": [],
   "source": [
    "# Add this before any other import\n",
    "import os\n",
    "os.environ[\"TRANSFORMERS_NO_TF\"] = \"1\"\n"
   ]
  },
  {
   "cell_type": "code",
   "execution_count": null,
   "id": "be1ec8ee",
   "metadata": {},
   "outputs": [],
   "source": [
    "from transformers import AutoTokenizer, AutoModelForSeq2SeqLM, TrainingArguments, Trainer, DataCollatorForSeq2Seq\n",
    "from datasets import load_dataset, Dataset\n",
    "from pathlib import Path\n",
    "import json\n",
    "import torch"
   ]
  },
  {
   "cell_type": "markdown",
   "id": "d7bf80d8",
   "metadata": {},
   "source": [
    "### 3. Load synthetic dataset"
   ]
  },
  {
   "cell_type": "code",
   "execution_count": 26,
   "id": "2987f11e",
   "metadata": {},
   "outputs": [],
   "source": [
    "with open(\"../data/synthetic_dataset_v1.json\") as f:\n",
    "    raw_data = json.load(f)\n",
    "\n",
    "# Format for supervised fine-tuning: input-output pairs\n",
    "pairs = [\n",
    "    {\n",
    "        \"input\": f\"Business: {entry['business_description']} \\n Domain Name:\",\n",
    "        \"output\": f\"{entry['category']}-{i}.com\"\n",
    "    }\n",
    "    for i, entry in enumerate(raw_data)\n",
    "]\n"
   ]
  },
  {
   "cell_type": "markdown",
   "id": "7256a333",
   "metadata": {},
   "source": [
    "### 4. Convert to Hugging Face Dataset"
   ]
  },
  {
   "cell_type": "code",
   "execution_count": 27,
   "id": "3748fdea",
   "metadata": {},
   "outputs": [],
   "source": [
    "dataset = Dataset.from_list(pairs)\n",
    "dataset = dataset.train_test_split(test_size=0.1)"
   ]
  },
  {
   "cell_type": "markdown",
   "id": "0e66f9df",
   "metadata": {},
   "source": [
    "### 5. Load tokenizer and model"
   ]
  },
  {
   "cell_type": "code",
   "execution_count": 28,
   "id": "a7e9bbe1",
   "metadata": {},
   "outputs": [],
   "source": [
    "model_checkpoint = \"google/flan-t5-base\"\n",
    "tokenizer = AutoTokenizer.from_pretrained(model_checkpoint)\n",
    "model = AutoModelForSeq2SeqLM.from_pretrained(model_checkpoint)"
   ]
  },
  {
   "cell_type": "markdown",
   "id": "a462024d",
   "metadata": {},
   "source": [
    "### 6. Tokenize the data\n"
   ]
  },
  {
   "cell_type": "code",
   "execution_count": 29,
   "id": "b125d36c",
   "metadata": {},
   "outputs": [
    {
     "data": {
      "application/vnd.jupyter.widget-view+json": {
       "model_id": "6b7c8d2414084e7d998aea75ec54a557",
       "version_major": 2,
       "version_minor": 0
      },
      "text/plain": [
       "Map:   0%|          | 0/180 [00:00<?, ? examples/s]"
      ]
     },
     "metadata": {},
     "output_type": "display_data"
    },
    {
     "data": {
      "application/vnd.jupyter.widget-view+json": {
       "model_id": "8c651b1ff56f450eaa6b980011fa4eab",
       "version_major": 2,
       "version_minor": 0
      },
      "text/plain": [
       "Map:   0%|          | 0/20 [00:00<?, ? examples/s]"
      ]
     },
     "metadata": {},
     "output_type": "display_data"
    }
   ],
   "source": [
    "def preprocess(example):\n",
    "    model_inputs = tokenizer(example[\"input\"], max_length=128, truncation=True)\n",
    "    with tokenizer.as_target_tokenizer():\n",
    "        labels = tokenizer(example[\"output\"], max_length=64, truncation=True)\n",
    "    model_inputs[\"labels\"] = labels[\"input_ids\"]\n",
    "    return model_inputs\n",
    "\n",
    "tokenized = dataset.map(preprocess, batched=True)"
   ]
  },
  {
   "cell_type": "markdown",
   "id": "1d29dce0",
   "metadata": {},
   "source": [
    "### 7. Training setup\n"
   ]
  },
  {
   "cell_type": "code",
   "execution_count": null,
   "id": "ca9e68ca",
   "metadata": {},
   "outputs": [],
   "source": [
    "Path(\"../models/model_v1\").mkdir(parents=True, exist_ok=True)\n",
    "\n",
    "args = TrainingArguments(\n",
    "    output_dir=str(Path(\"../models/model_v1\").resolve()),  \n",
    "    evaluation_strategy=\"epoch\",\n",
    "    learning_rate=5e-5,\n",
    "    per_device_train_batch_size=8,\n",
    "    num_train_epochs=3,\n",
    "    weight_decay=0.01,\n",
    "    save_strategy=\"epoch\",\n",
    "    logging_dir=str(Path(\"../models/model_v1/logs\").resolve()),\n",
    "    logging_steps=10,\n",
    "    save_total_limit=2\n",
    ")"
   ]
  },
  {
   "cell_type": "markdown",
   "id": "97087e00",
   "metadata": {},
   "source": [
    "### 8. Trainer\n"
   ]
  },
  {
   "cell_type": "code",
   "execution_count": 31,
   "id": "5d6b99cd",
   "metadata": {},
   "outputs": [
    {
     "name": "stderr",
     "output_type": "stream",
     "text": [
      "C:\\Users\\vishn\\AppData\\Local\\Temp\\ipykernel_35400\\3785773948.py:1: FutureWarning: `tokenizer` is deprecated and will be removed in version 5.0.0 for `Trainer.__init__`. Use `processing_class` instead.\n",
      "  trainer = Trainer(\n"
     ]
    }
   ],
   "source": [
    "trainer = Trainer(\n",
    "    model=model,\n",
    "    args=args,\n",
    "    train_dataset=tokenized[\"train\"],\n",
    "    eval_dataset=tokenized[\"test\"],\n",
    "    tokenizer=tokenizer,\n",
    "    data_collator=data_collator\n",
    ")"
   ]
  },
  {
   "cell_type": "markdown",
   "id": "ac399cc6",
   "metadata": {},
   "source": [
    "### 9. Train\n"
   ]
  },
  {
   "cell_type": "code",
   "execution_count": 32,
   "id": "fd94cedd",
   "metadata": {},
   "outputs": [
    {
     "data": {
      "text/html": [
       "\n",
       "    <div>\n",
       "      \n",
       "      <progress value='69' max='69' style='width:300px; height:20px; vertical-align: middle;'></progress>\n",
       "      [69/69 01:50, Epoch 3/3]\n",
       "    </div>\n",
       "    <table border=\"1\" class=\"dataframe\">\n",
       "  <thead>\n",
       " <tr style=\"text-align: left;\">\n",
       "      <th>Epoch</th>\n",
       "      <th>Training Loss</th>\n",
       "      <th>Validation Loss</th>\n",
       "    </tr>\n",
       "  </thead>\n",
       "  <tbody>\n",
       "    <tr>\n",
       "      <td>1</td>\n",
       "      <td>1.714800</td>\n",
       "      <td>1.067017</td>\n",
       "    </tr>\n",
       "    <tr>\n",
       "      <td>2</td>\n",
       "      <td>1.128900</td>\n",
       "      <td>1.012311</td>\n",
       "    </tr>\n",
       "    <tr>\n",
       "      <td>3</td>\n",
       "      <td>1.038800</td>\n",
       "      <td>1.007025</td>\n",
       "    </tr>\n",
       "  </tbody>\n",
       "</table><p>"
      ],
      "text/plain": [
       "<IPython.core.display.HTML object>"
      ]
     },
     "metadata": {},
     "output_type": "display_data"
    },
    {
     "data": {
      "text/plain": [
       "TrainOutput(global_step=69, training_loss=1.4878929248754529, metrics={'train_runtime': 113.7409, 'train_samples_per_second': 4.748, 'train_steps_per_second': 0.607, 'total_flos': 14085672726528.0, 'train_loss': 1.4878929248754529, 'epoch': 3.0})"
      ]
     },
     "execution_count": 32,
     "metadata": {},
     "output_type": "execute_result"
    }
   ],
   "source": [
    "trainer.train()"
   ]
  },
  {
   "cell_type": "markdown",
   "id": "90613ebe",
   "metadata": {},
   "source": [
    "### 10. Save model manually\n"
   ]
  },
  {
   "cell_type": "code",
   "execution_count": 33,
   "id": "f434fed3",
   "metadata": {},
   "outputs": [
    {
     "data": {
      "text/plain": [
       "('../models/model_v1\\\\tokenizer_config.json',\n",
       " '../models/model_v1\\\\special_tokens_map.json',\n",
       " '../models/model_v1\\\\tokenizer.json')"
      ]
     },
     "execution_count": 33,
     "metadata": {},
     "output_type": "execute_result"
    }
   ],
   "source": [
    "trainer.save_model(\"../models/model_v1\")\n",
    "tokenizer.save_pretrained(\"../models/model_v1\")"
   ]
  }
 ],
 "metadata": {
  "kernelspec": {
   "display_name": "Python 3",
   "language": "python",
   "name": "python3"
  },
  "language_info": {
   "codemirror_mode": {
    "name": "ipython",
    "version": 3
   },
   "file_extension": ".py",
   "mimetype": "text/x-python",
   "name": "python",
   "nbconvert_exporter": "python",
   "pygments_lexer": "ipython3",
   "version": "3.11.9"
  }
 },
 "nbformat": 4,
 "nbformat_minor": 5
}
