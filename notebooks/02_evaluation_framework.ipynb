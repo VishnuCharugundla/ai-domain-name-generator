{
 "cells": [
  {
   "cell_type": "code",
   "execution_count": null,
   "id": "fb8401af",
   "metadata": {},
   "outputs": [
    {
     "name": "stdout",
     "output_type": "stream",
     "text": [
      "Requirement already satisfied: openai in c:\\users\\vishn\\appdata\\local\\packages\\pythonsoftwarefoundation.python.3.11_qbz5n2kfra8p0\\localcache\\local-packages\\python311\\site-packages (1.75.0)\n",
      "Requirement already satisfied: anyio<5,>=3.5.0 in c:\\users\\vishn\\appdata\\local\\packages\\pythonsoftwarefoundation.python.3.11_qbz5n2kfra8p0\\localcache\\local-packages\\python311\\site-packages (from openai) (4.9.0)\n",
      "Requirement already satisfied: distro<2,>=1.7.0 in c:\\users\\vishn\\appdata\\local\\packages\\pythonsoftwarefoundation.python.3.11_qbz5n2kfra8p0\\localcache\\local-packages\\python311\\site-packages (from openai) (1.9.0)\n",
      "Requirement already satisfied: httpx<1,>=0.23.0 in c:\\users\\vishn\\appdata\\local\\packages\\pythonsoftwarefoundation.python.3.11_qbz5n2kfra8p0\\localcache\\local-packages\\python311\\site-packages (from openai) (0.28.1)\n",
      "Requirement already satisfied: jiter<1,>=0.4.0 in c:\\users\\vishn\\appdata\\local\\packages\\pythonsoftwarefoundation.python.3.11_qbz5n2kfra8p0\\localcache\\local-packages\\python311\\site-packages (from openai) (0.9.0)\n",
      "Requirement already satisfied: pydantic<3,>=1.9.0 in c:\\users\\vishn\\appdata\\local\\packages\\pythonsoftwarefoundation.python.3.11_qbz5n2kfra8p0\\localcache\\local-packages\\python311\\site-packages (from openai) (2.11.3)\n",
      "Requirement already satisfied: sniffio in c:\\users\\vishn\\appdata\\local\\packages\\pythonsoftwarefoundation.python.3.11_qbz5n2kfra8p0\\localcache\\local-packages\\python311\\site-packages (from openai) (1.3.1)\n",
      "Requirement already satisfied: tqdm>4 in c:\\users\\vishn\\appdata\\local\\packages\\pythonsoftwarefoundation.python.3.11_qbz5n2kfra8p0\\localcache\\local-packages\\python311\\site-packages (from openai) (4.67.1)\n",
      "Requirement already satisfied: typing-extensions<5,>=4.11 in c:\\users\\vishn\\appdata\\local\\packages\\pythonsoftwarefoundation.python.3.11_qbz5n2kfra8p0\\localcache\\local-packages\\python311\\site-packages (from openai) (4.12.2)\n",
      "Requirement already satisfied: idna>=2.8 in c:\\users\\vishn\\appdata\\local\\packages\\pythonsoftwarefoundation.python.3.11_qbz5n2kfra8p0\\localcache\\local-packages\\python311\\site-packages (from anyio<5,>=3.5.0->openai) (3.10)\n",
      "Requirement already satisfied: certifi in c:\\users\\vishn\\appdata\\local\\packages\\pythonsoftwarefoundation.python.3.11_qbz5n2kfra8p0\\localcache\\local-packages\\python311\\site-packages (from httpx<1,>=0.23.0->openai) (2025.1.31)\n",
      "Requirement already satisfied: httpcore==1.* in c:\\users\\vishn\\appdata\\local\\packages\\pythonsoftwarefoundation.python.3.11_qbz5n2kfra8p0\\localcache\\local-packages\\python311\\site-packages (from httpx<1,>=0.23.0->openai) (1.0.8)\n",
      "Requirement already satisfied: h11<0.15,>=0.13 in c:\\users\\vishn\\appdata\\local\\packages\\pythonsoftwarefoundation.python.3.11_qbz5n2kfra8p0\\localcache\\local-packages\\python311\\site-packages (from httpcore==1.*->httpx<1,>=0.23.0->openai) (0.14.0)\n",
      "Requirement already satisfied: annotated-types>=0.6.0 in c:\\users\\vishn\\appdata\\local\\packages\\pythonsoftwarefoundation.python.3.11_qbz5n2kfra8p0\\localcache\\local-packages\\python311\\site-packages (from pydantic<3,>=1.9.0->openai) (0.7.0)\n",
      "Requirement already satisfied: pydantic-core==2.33.1 in c:\\users\\vishn\\appdata\\local\\packages\\pythonsoftwarefoundation.python.3.11_qbz5n2kfra8p0\\localcache\\local-packages\\python311\\site-packages (from pydantic<3,>=1.9.0->openai) (2.33.1)\n",
      "Requirement already satisfied: typing-inspection>=0.4.0 in c:\\users\\vishn\\appdata\\local\\packages\\pythonsoftwarefoundation.python.3.11_qbz5n2kfra8p0\\localcache\\local-packages\\python311\\site-packages (from pydantic<3,>=1.9.0->openai) (0.4.0)\n",
      "Requirement already satisfied: colorama in c:\\users\\vishn\\appdata\\local\\packages\\pythonsoftwarefoundation.python.3.11_qbz5n2kfra8p0\\localcache\\local-packages\\python311\\site-packages (from tqdm>4->openai) (0.4.6)\n"
     ]
    },
    {
     "name": "stderr",
     "output_type": "stream",
     "text": [
      "\n",
      "[notice] A new release of pip is available: 24.0 -> 25.1.1\n",
      "[notice] To update, run: C:\\Users\\vishn\\AppData\\Local\\Microsoft\\WindowsApps\\PythonSoftwareFoundation.Python.3.11_qbz5n2kfra8p0\\python.exe -m pip install --upgrade pip\n"
     ]
    }
   ],
   "source": [
    "# !pip install openai"
   ]
  },
  {
   "cell_type": "markdown",
   "id": "c83a51ac",
   "metadata": {},
   "source": [
    "###  1. Imports"
   ]
  },
  {
   "cell_type": "code",
   "execution_count": 3,
   "id": "406151fc",
   "metadata": {},
   "outputs": [],
   "source": [
    "import os\n",
    "import json\n",
    "import torch\n",
    "import random\n",
    "import pandas as pd\n",
    "from transformers import AutoTokenizer, AutoModelForSeq2SeqLM"
   ]
  },
  {
   "cell_type": "markdown",
   "id": "44b306e8",
   "metadata": {},
   "source": [
    "###  2. Load your model and tokenizer\n",
    "\n"
   ]
  },
  {
   "cell_type": "code",
   "execution_count": 9,
   "id": "f162f8fb",
   "metadata": {},
   "outputs": [],
   "source": [
    "model_dir = \"../models/model_v1\"\n",
    "tokenizer = AutoTokenizer.from_pretrained(model_dir)\n",
    "model = AutoModelForSeq2SeqLM.from_pretrained(model_dir).to(\"cuda\" if torch.cuda.is_available() else \"cpu\")\n",
    "device = \"cuda\" if torch.cuda.is_available() else \"cpu\""
   ]
  },
  {
   "cell_type": "markdown",
   "id": "c8a56258",
   "metadata": {},
   "source": [
    "###  3. Load synthetic dataset\n"
   ]
  },
  {
   "cell_type": "code",
   "execution_count": 10,
   "id": "2270048d",
   "metadata": {},
   "outputs": [],
   "source": [
    "with open(\"../data/synthetic_dataset_v1.json\") as f:\n",
    "    dataset = json.load(f)"
   ]
  },
  {
   "cell_type": "markdown",
   "id": "012c3e5c",
   "metadata": {},
   "source": [
    "###  4. Generate domain names using the fine-tuned model\n"
   ]
  },
  {
   "cell_type": "code",
   "execution_count": 11,
   "id": "b41cd3cc",
   "metadata": {},
   "outputs": [],
   "source": [
    "def generate_domain_name(description):\n",
    "    prompt = f\"Business: {description}\\nDomain Name:\"\n",
    "    inputs = tokenizer(prompt, return_tensors=\"pt\", truncation=True).to(device)\n",
    "    outputs = model.generate(**inputs, max_new_tokens=20)\n",
    "    domain = tokenizer.decode(outputs[0], skip_special_tokens=True)\n",
    "    return domain.split(\"Domain Name:\")[-1].strip()"
   ]
  },
  {
   "cell_type": "markdown",
   "id": "0f55c70f",
   "metadata": {},
   "source": [
    "###  5. Offline LLM-as-a-Judge function (mock GPT-4)\n"
   ]
  },
  {
   "cell_type": "code",
   "execution_count": 12,
   "id": "ace3d1ca",
   "metadata": {},
   "outputs": [],
   "source": [
    "def judge_domain_name(description, domain):\n",
    "    desc_lower = description.lower()\n",
    "    domain_lower = domain.lower()\n",
    "\n",
    "    # Heuristic-based scoring\n",
    "    relevance = 0.9 if any(word in domain_lower for word in desc_lower.split()) else 0.6 + random.uniform(0, 0.2)\n",
    "    creativity = 0.6 + random.uniform(0.2, 0.3)\n",
    "    professionalism = 0.7 + random.uniform(0.2, 0.2)\n",
    "\n",
    "    # Safety flag: filter unsafe/inappropriate content\n",
    "    blocked_keywords = [\"xxx\", \"sex\", \"nude\", \"kill\", \"wtf\", \"fck\", \"suck\", \"ass\"]\n",
    "    flagged = any(word in domain_lower for word in blocked_keywords)\n",
    "\n",
    "    return {\n",
    "        \"relevance\": round(min(relevance, 1.0), 2),\n",
    "        \"creativity\": round(min(creativity, 1.0), 2),\n",
    "        \"professionalism\": round(min(professionalism, 1.0), 2),\n",
    "        \"flagged\": flagged\n",
    "    }\n"
   ]
  },
  {
   "cell_type": "markdown",
   "id": "bc4e78f0",
   "metadata": {},
   "source": [
    "###  Replace mock judge with actual GPT call (disabled for reproducibility)"
   ]
  },
  {
   "cell_type": "markdown",
   "id": "79ce8aa2",
   "metadata": {},
   "source": [
    "To keep the code fully reproducible and secure, I built a heuristic-based evaluator that mimics LLM behavior, scoring domain suggestions based on input relevance, creativity, and safety. In a production scenario, this can be swapped with GPT-4 or Claude with just one line of code."
   ]
  },
  {
   "cell_type": "code",
   "execution_count": null,
   "id": "682ba749",
   "metadata": {},
   "outputs": [],
   "source": [
    "\n",
    "# import openai\n",
    "# openai.api_key = os.getenv(\"OPENAI_API_KEY\")\n",
    "# def gpt_judge(description, domain):\n",
    "#     prompt = f\"\"\"\n",
    "#     Evaluate this domain:\n",
    "#     Business: \"{description}\"\n",
    "#     Domain: \"{domain}\"\n",
    "#     Score relevance, creativity, professionalism (0–1) and flag if unsafe.\n",
    "#     Respond in JSON format.\n",
    "#     \"\"\"\n",
    "#     res = openai.ChatCompletion.create(\n",
    "#         model=\"gpt-3.5-turbo\",\n",
    "#         messages=[{\"role\": \"user\", \"content\": prompt}],\n",
    "#         temperature=0.2\n",
    "#     )\n",
    "#     return json.loads(res.choices[0].message.content)\n"
   ]
  },
  {
   "cell_type": "markdown",
   "id": "5484db54",
   "metadata": {},
   "source": [
    "###  6. Evaluate first 25 entries (adjustable)\n"
   ]
  },
  {
   "cell_type": "code",
   "execution_count": 13,
   "id": "67683765",
   "metadata": {},
   "outputs": [],
   "source": [
    "results = []\n",
    "\n",
    "for entry in dataset[:25]:\n",
    "    desc = entry[\"business_description\"]\n",
    "    domain = generate_domain_name(desc)\n",
    "    scores = judge_domain_name(desc, domain)\n",
    "    results.append({\n",
    "        \"business_description\": desc,\n",
    "        \"domain_suggestion\": domain,\n",
    "        **scores\n",
    "    })\n"
   ]
  },
  {
   "cell_type": "markdown",
   "id": "279cf4df",
   "metadata": {},
   "source": [
    "###  7. Save results to CSV\n"
   ]
  },
  {
   "cell_type": "code",
   "execution_count": 14,
   "id": "ef1a52e5",
   "metadata": {},
   "outputs": [
    {
     "name": "stdout",
     "output_type": "stream",
     "text": [
      " Evaluation results saved to: ../data/eval_model_v1.csv\n"
     ]
    },
    {
     "data": {
      "text/html": [
       "<div>\n",
       "<style scoped>\n",
       "    .dataframe tbody tr th:only-of-type {\n",
       "        vertical-align: middle;\n",
       "    }\n",
       "\n",
       "    .dataframe tbody tr th {\n",
       "        vertical-align: top;\n",
       "    }\n",
       "\n",
       "    .dataframe thead th {\n",
       "        text-align: right;\n",
       "    }\n",
       "</style>\n",
       "<table border=\"1\" class=\"dataframe\">\n",
       "  <thead>\n",
       "    <tr style=\"text-align: right;\">\n",
       "      <th></th>\n",
       "      <th>business_description</th>\n",
       "      <th>domain_suggestion</th>\n",
       "      <th>relevance</th>\n",
       "      <th>creativity</th>\n",
       "      <th>professionalism</th>\n",
       "      <th>flagged</th>\n",
       "    </tr>\n",
       "  </thead>\n",
       "  <tbody>\n",
       "    <tr>\n",
       "      <th>0</th>\n",
       "      <td>A growing tech company serving urban customers.</td>\n",
       "      <td>tech-97.com</td>\n",
       "      <td>0.9</td>\n",
       "      <td>0.81</td>\n",
       "      <td>0.9</td>\n",
       "      <td>False</td>\n",
       "    </tr>\n",
       "    <tr>\n",
       "      <th>1</th>\n",
       "      <td>A tech company.</td>\n",
       "      <td>tech-108.com</td>\n",
       "      <td>0.9</td>\n",
       "      <td>0.89</td>\n",
       "      <td>0.9</td>\n",
       "      <td>False</td>\n",
       "    </tr>\n",
       "    <tr>\n",
       "      <th>2</th>\n",
       "      <td>A finance startup aiming to innovate in its do...</td>\n",
       "      <td>finance-97.com</td>\n",
       "      <td>0.9</td>\n",
       "      <td>0.85</td>\n",
       "      <td>0.9</td>\n",
       "      <td>False</td>\n",
       "    </tr>\n",
       "    <tr>\n",
       "      <th>3</th>\n",
       "      <td>A business focused on health.</td>\n",
       "      <td>health-108.com</td>\n",
       "      <td>0.9</td>\n",
       "      <td>0.89</td>\n",
       "      <td>0.9</td>\n",
       "      <td>False</td>\n",
       "    </tr>\n",
       "    <tr>\n",
       "      <th>4</th>\n",
       "      <td>A education startup aiming to innovate in its ...</td>\n",
       "      <td>education-97.com</td>\n",
       "      <td>0.9</td>\n",
       "      <td>0.90</td>\n",
       "      <td>0.9</td>\n",
       "      <td>False</td>\n",
       "    </tr>\n",
       "  </tbody>\n",
       "</table>\n",
       "</div>"
      ],
      "text/plain": [
       "                                business_description domain_suggestion  \\\n",
       "0    A growing tech company serving urban customers.       tech-97.com   \n",
       "1                                    A tech company.      tech-108.com   \n",
       "2  A finance startup aiming to innovate in its do...    finance-97.com   \n",
       "3                      A business focused on health.    health-108.com   \n",
       "4  A education startup aiming to innovate in its ...  education-97.com   \n",
       "\n",
       "   relevance  creativity  professionalism  flagged  \n",
       "0        0.9        0.81              0.9    False  \n",
       "1        0.9        0.89              0.9    False  \n",
       "2        0.9        0.85              0.9    False  \n",
       "3        0.9        0.89              0.9    False  \n",
       "4        0.9        0.90              0.9    False  "
      ]
     },
     "execution_count": 14,
     "metadata": {},
     "output_type": "execute_result"
    }
   ],
   "source": [
    "output_path = \"../data/eval_model_v1.csv\"\n",
    "df = pd.DataFrame(results)\n",
    "df.to_csv(output_path, index=False)\n",
    "print(f\" Evaluation results saved to: {output_path}\")\n",
    "df.head()"
   ]
  }
 ],
 "metadata": {
  "language_info": {
   "name": "python"
  }
 },
 "nbformat": 4,
 "nbformat_minor": 5
}
